{
 "cells": [
  {
   "cell_type": "code",
   "execution_count": 1,
   "metadata": {
    "collapsed": false
   },
   "outputs": [],
   "source": [
    "import cv2\n",
    "import joblib\n",
    "import matplotlib.pyplot as plt\n",
    "from PIL import Image\n",
    "from collections import Counter\n",
    "import numpy as np"
   ]
  },
  {
   "cell_type": "code",
   "execution_count": 17,
   "metadata": {
    "collapsed": false
   },
   "outputs": [
    {
     "data": {
      "text/plain": [
       "1532"
      ]
     },
     "execution_count": 17,
     "metadata": {},
     "output_type": "execute_result"
    }
   ],
   "source": [
    "import json\n",
    "from pathlib import Path\n",
    "\n",
    "def load_json(fp):\n",
    "    with open(fp, 'r') as f:\n",
    "        return json.load(f)\n",
    "\n",
    "\n",
    "def dump_json(obj, fp):\n",
    "    with open(fp, 'w') as f:\n",
    "        json.dump(obj, f)\n",
    "\n",
    "\n",
    "dataset_dir = Path('/Users/user/Downloads/solaris_damage_0_4_3')\n",
    "img_dir = dataset_dir / 'images'\n",
    "anns = load_json(dataset_dir / 'train_damage_coco.json')\n",
    "\n",
    "id_to_filename = {ann['id']: ann['file_name'] for ann in anns['images']}\n",
    "\n",
    "all_img_ids = set(ann['id'] for ann in anns['images'])\n",
    "ann_img_ids = set(ann['image_id'] for ann in anns['annotations'])\n",
    "len(all_img_ids - ann_img_ids)"
   ]
  },
  {
   "cell_type": "code",
   "execution_count": 18,
   "metadata": {
    "collapsed": false
   },
   "outputs": [
    {
     "data": {
      "text/plain": [
       "1.0"
      ]
     },
     "execution_count": 18,
     "metadata": {},
     "output_type": "execute_result"
    }
   ],
   "source": [
    "np.mean([(img_dir / Path(id_to_filename[ann['image_id']]).name).exists() for ann in anns['annotations']])"
   ]
  },
  {
   "cell_type": "code",
   "execution_count": 7,
   "metadata": {
    "collapsed": false
   },
   "outputs": [
    {
     "data": {
      "text/plain": [
       "PosixPath('/Users/user/Downloads/solaris_damage_0_4_3/images/837010425_ph-1612345459140.jpg')"
      ]
     },
     "execution_count": 7,
     "metadata": {},
     "output_type": "execute_result"
    }
   ],
   "source": [
    "img_dir / Path(ann['file_name']).name"
   ]
  },
  {
   "cell_type": "code",
   "execution_count": null,
   "metadata": {
    "collapsed": false,
    "pycharm": {
     "is_executing": true
    }
   },
   "outputs": [],
   "source": [
    "filename_to_entropy = joblib.load('/Users/user/Downloads/filename_to_entropy.pkl')"
   ]
  },
  {
   "cell_type": "code",
   "execution_count": 90,
   "metadata": {
    "collapsed": false
   },
   "outputs": [
    {
     "data": {
      "text/plain": [
       "array([ 0, 10, 28, 79, 83], dtype=uint8)"
      ]
     },
     "execution_count": 90,
     "metadata": {},
     "output_type": "execute_result"
    }
   ],
   "source": [
    "from typing import Optional\n",
    "\n",
    "def remove_image_compression_glitch(\n",
    "        im: np.array,  # RGB [height, width, channels]\n",
    "        filter_rate: Optional[float] = None,  # пиксели с какой долей от фото какие пиксели даже не рассматриваем\n",
    "    ):\n",
    "\n",
    "    im = np.array(im)[..., 0]\n",
    "    colors_counter = Counter(im.flatten())\n",
    "    morphed_im = np.zeros_like(im)\n",
    "\n",
    "    for color, count in colors_counter.items():\n",
    "        color_rate = count / im.size\n",
    "        if filter_rate is not None and color_rate < filter_rate:\n",
    "            continue\n",
    "\n",
    "        color_mask = (im == color).astype('uint8')\n",
    "        kernel = np.ones((3, 3), np.uint8)\n",
    "        color_mask_morph = cv2.morphologyEx(\n",
    "            color_mask.copy(),\n",
    "            cv2.MORPH_OPEN,\n",
    "            kernel,\n",
    "        )\n",
    "\n",
    "        color_mask_morph = cv2.morphologyEx(\n",
    "            color_mask_morph.copy(),\n",
    "            cv2.MORPH_DILATE,\n",
    "            kernel,\n",
    "        )\n",
    "\n",
    "        morphed_im[color_mask_morph.astype('bool')] = color\n",
    "\n",
    "    zero_channel = np.zeros_like(morphed_im)\n",
    "    morphed_im_rgb = np.stack([morphed_im, zero_channel, zero_channel]).transpose((1, 2, 0))\n",
    "    return morphed_im_rgb\n",
    "\n",
    "im = Image.open('/Users/user/Downloads/760093081_ph-1594116281881_new.png').convert('RGB')\n",
    "morphed_im = remove_image_compression_glitch(im)\n",
    "Image.fromarray(morphed_im).save('/Users/user/Downloads/760093081_ph-1594116281881_no_gap.png')"
   ]
  },
  {
   "cell_type": "code",
   "execution_count": null,
   "metadata": {
    "collapsed": false
   },
   "outputs": [],
   "source": []
  }
 ],
 "metadata": {
  "kernelspec": {
   "display_name": "Python 3",
   "language": "python",
   "name": "python3"
  },
  "language_info": {
   "codemirror_mode": {
    "name": "ipython",
    "version": 2
   },
   "file_extension": ".py",
   "mimetype": "text/x-python",
   "name": "python",
   "nbconvert_exporter": "python",
   "pygments_lexer": "ipython2",
   "version": "2.7.6"
  }
 },
 "nbformat": 4,
 "nbformat_minor": 0
}
